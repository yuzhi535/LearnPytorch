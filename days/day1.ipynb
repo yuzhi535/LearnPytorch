{
 "cells": [
  {
   "cell_type": "code",
   "execution_count": 2,
   "source": [
    "# 导入包\n",
    "import numpy as np\n",
    "import torch"
   ],
   "outputs": [],
   "metadata": {
    "collapsed": true
   }
  },
  {
   "cell_type": "code",
   "execution_count": 3,
   "source": [
    "x = torch.randn(3, requires_grad=True)\n",
    "y = x + 2\n",
    "print(y)"
   ],
   "outputs": [
    {
     "output_type": "stream",
     "name": "stdout",
     "text": [
      "tensor([2.0955, 1.6534, 0.9327], grad_fn=<AddBackward0>)\n"
     ]
    }
   ],
   "metadata": {
    "collapsed": false,
    "pycharm": {
     "name": "#%%\n"
    }
   }
  },
  {
   "cell_type": "code",
   "execution_count": 4,
   "source": [
    "print(x.detach().numpy().shape)\n",
    "z = y ** 2 + 2\n",
    "z = z.mean()\n",
    "print(z)\n",
    "\n",
    "z.backward()\n",
    "print(x.grad)"
   ],
   "outputs": [
    {
     "output_type": "stream",
     "name": "stdout",
     "text": [
      "(3,)\n",
      "tensor(4.6649, grad_fn=<MeanBackward0>)\n",
      "tensor([1.3970, 1.1023, 0.6218])\n"
     ]
    },
    {
     "output_type": "stream",
     "name": "stderr",
     "text": [
      "/home/sasuke/PycharmProjects/MT/venv/lib/python3.9/site-packages/torch/autograd/__init__.py:147: UserWarning: CUDA initialization: CUDA unknown error - this may be due to an incorrectly set up environment, e.g. changing env variable CUDA_VISIBLE_DEVICES after program start. Setting the available devices to be zero. (Triggered internally at  /pytorch/c10/cuda/CUDAFunctions.cpp:115.)\n",
      "  Variable._execution_engine.run_backward(\n"
     ]
    }
   ],
   "metadata": {
    "collapsed": false,
    "pycharm": {
     "name": "#%%\n"
    }
   }
  },
  {
   "cell_type": "code",
   "execution_count": 5,
   "source": [
    "weights = torch.ones(4, requires_grad=True)\n",
    "for epoth in range(2):\n",
    "    model_output = (weights * 3).sum()\n",
    "    model_output.backward()\n",
    "    print(weights.grad)\n",
    "    weights.grad.zero_()\n"
   ],
   "outputs": [
    {
     "output_type": "stream",
     "name": "stdout",
     "text": [
      "tensor([3., 3., 3., 3.])\n",
      "tensor([3., 3., 3., 3.])\n"
     ]
    }
   ],
   "metadata": {
    "collapsed": false,
    "pycharm": {
     "name": "#%%\n"
    }
   }
  },
  {
   "cell_type": "markdown",
   "source": [
    "# 优化器"
   ],
   "metadata": {
    "collapsed": false,
    "pycharm": {
     "name": "#%% md\n"
    }
   }
  },
  {
   "cell_type": "code",
   "execution_count": 6,
   "source": [
    "optimizer = torch.optim.SGD(weights, lr=.01)\n",
    "optimizer.step()\n",
    "optimizer.zero_grad()"
   ],
   "outputs": [
    {
     "output_type": "error",
     "ename": "TypeError",
     "evalue": "params argument given to the optimizer should be an iterable of Tensors or dicts, but got torch.FloatTensor",
     "traceback": [
      "\u001B[0;31m---------------------------------------------------------------------------\u001B[0m",
      "\u001B[0;31mTypeError\u001B[0m                                 Traceback (most recent call last)",
      "\u001B[0;32m/tmp/ipykernel_95311/3539987806.py\u001B[0m in \u001B[0;36m<module>\u001B[0;34m\u001B[0m\n\u001B[0;32m----> 1\u001B[0;31m \u001B[0moptimizer\u001B[0m \u001B[0;34m=\u001B[0m \u001B[0mtorch\u001B[0m\u001B[0;34m.\u001B[0m\u001B[0moptim\u001B[0m\u001B[0;34m.\u001B[0m\u001B[0mSGD\u001B[0m\u001B[0;34m(\u001B[0m\u001B[0mweights\u001B[0m\u001B[0;34m,\u001B[0m \u001B[0mlr\u001B[0m\u001B[0;34m=\u001B[0m\u001B[0;36m.01\u001B[0m\u001B[0;34m)\u001B[0m\u001B[0;34m\u001B[0m\u001B[0;34m\u001B[0m\u001B[0m\n\u001B[0m\u001B[1;32m      2\u001B[0m \u001B[0moptimizer\u001B[0m\u001B[0;34m.\u001B[0m\u001B[0mstep\u001B[0m\u001B[0;34m(\u001B[0m\u001B[0;34m)\u001B[0m\u001B[0;34m\u001B[0m\u001B[0;34m\u001B[0m\u001B[0m\n\u001B[1;32m      3\u001B[0m \u001B[0moptimizer\u001B[0m\u001B[0;34m.\u001B[0m\u001B[0mzero_grad\u001B[0m\u001B[0;34m(\u001B[0m\u001B[0;34m)\u001B[0m\u001B[0;34m\u001B[0m\u001B[0;34m\u001B[0m\u001B[0m\n\u001B[1;32m      4\u001B[0m \u001B[0;34m\u001B[0m\u001B[0m\n",
      "\u001B[0;32m~/PycharmProjects/MT/venv/lib/python3.9/site-packages/torch/optim/sgd.py\u001B[0m in \u001B[0;36m__init__\u001B[0;34m(self, params, lr, momentum, dampening, weight_decay, nesterov)\u001B[0m\n\u001B[1;32m     67\u001B[0m         \u001B[0;32mif\u001B[0m \u001B[0mnesterov\u001B[0m \u001B[0;32mand\u001B[0m \u001B[0;34m(\u001B[0m\u001B[0mmomentum\u001B[0m \u001B[0;34m<=\u001B[0m \u001B[0;36m0\u001B[0m \u001B[0;32mor\u001B[0m \u001B[0mdampening\u001B[0m \u001B[0;34m!=\u001B[0m \u001B[0;36m0\u001B[0m\u001B[0;34m)\u001B[0m\u001B[0;34m:\u001B[0m\u001B[0;34m\u001B[0m\u001B[0;34m\u001B[0m\u001B[0m\n\u001B[1;32m     68\u001B[0m             \u001B[0;32mraise\u001B[0m \u001B[0mValueError\u001B[0m\u001B[0;34m(\u001B[0m\u001B[0;34m\"Nesterov momentum requires a momentum and zero dampening\"\u001B[0m\u001B[0;34m)\u001B[0m\u001B[0;34m\u001B[0m\u001B[0;34m\u001B[0m\u001B[0m\n\u001B[0;32m---> 69\u001B[0;31m         \u001B[0msuper\u001B[0m\u001B[0;34m(\u001B[0m\u001B[0mSGD\u001B[0m\u001B[0;34m,\u001B[0m \u001B[0mself\u001B[0m\u001B[0;34m)\u001B[0m\u001B[0;34m.\u001B[0m\u001B[0m__init__\u001B[0m\u001B[0;34m(\u001B[0m\u001B[0mparams\u001B[0m\u001B[0;34m,\u001B[0m \u001B[0mdefaults\u001B[0m\u001B[0;34m)\u001B[0m\u001B[0;34m\u001B[0m\u001B[0;34m\u001B[0m\u001B[0m\n\u001B[0m\u001B[1;32m     70\u001B[0m \u001B[0;34m\u001B[0m\u001B[0m\n\u001B[1;32m     71\u001B[0m     \u001B[0;32mdef\u001B[0m \u001B[0m__setstate__\u001B[0m\u001B[0;34m(\u001B[0m\u001B[0mself\u001B[0m\u001B[0;34m,\u001B[0m \u001B[0mstate\u001B[0m\u001B[0;34m)\u001B[0m\u001B[0;34m:\u001B[0m\u001B[0;34m\u001B[0m\u001B[0;34m\u001B[0m\u001B[0m\n",
      "\u001B[0;32m~/PycharmProjects/MT/venv/lib/python3.9/site-packages/torch/optim/optimizer.py\u001B[0m in \u001B[0;36m__init__\u001B[0;34m(self, params, defaults)\u001B[0m\n\u001B[1;32m     38\u001B[0m \u001B[0;34m\u001B[0m\u001B[0m\n\u001B[1;32m     39\u001B[0m         \u001B[0;32mif\u001B[0m \u001B[0misinstance\u001B[0m\u001B[0;34m(\u001B[0m\u001B[0mparams\u001B[0m\u001B[0;34m,\u001B[0m \u001B[0mtorch\u001B[0m\u001B[0;34m.\u001B[0m\u001B[0mTensor\u001B[0m\u001B[0;34m)\u001B[0m\u001B[0;34m:\u001B[0m\u001B[0;34m\u001B[0m\u001B[0;34m\u001B[0m\u001B[0m\n\u001B[0;32m---> 40\u001B[0;31m             raise TypeError(\"params argument given to the optimizer should be \"\n\u001B[0m\u001B[1;32m     41\u001B[0m                             \u001B[0;34m\"an iterable of Tensors or dicts, but got \"\u001B[0m \u001B[0;34m+\u001B[0m\u001B[0;34m\u001B[0m\u001B[0;34m\u001B[0m\u001B[0m\n\u001B[1;32m     42\u001B[0m                             torch.typename(params))\n",
      "\u001B[0;31mTypeError\u001B[0m: params argument given to the optimizer should be an iterable of Tensors or dicts, but got torch.FloatTensor"
     ]
    }
   ],
   "metadata": {
    "collapsed": false,
    "pycharm": {
     "name": "#%%\n"
    }
   }
  },
  {
   "cell_type": "code",
   "execution_count": null,
   "source": [
    "#forward pass and compute the loss\n",
    "x = torch.tensor(1.0)\n",
    "y = torch.tensor(2.0)\n",
    "\n",
    "w = torch.tensor(1.0, requires_grad=True)\n",
    "y_hat = w * x\n",
    "loss = (y_hat - y) ** 2\n",
    "print(loss)\n",
    "# backward pass\n",
    "loss.backward()\n",
    "print(w.grad)"
   ],
   "outputs": [],
   "metadata": {
    "collapsed": false,
    "pycharm": {
     "name": "#%%\n"
    }
   }
  },
  {
   "cell_type": "markdown",
   "source": [
    "# numpy 写法"
   ],
   "metadata": {
    "collapsed": false,
    "pycharm": {
     "name": "#%% md\n"
    }
   }
  },
  {
   "cell_type": "code",
   "execution_count": 12,
   "source": [
    "import numpy as np\n",
    "\n",
    "\n",
    "# model prediction\n",
    "def forward(x):\n",
    "    return w * x\n",
    "    pass\n",
    "\n",
    "\n",
    "# loss\n",
    "def loss(y, y_pred):\n",
    "    return ((y - y_pred) ** 2).mean()\n",
    "    pass\n",
    "\n",
    "\n",
    "# gradient\n",
    "def gradient(x, y, y_pred):\n",
    "    return np.dot(2 * x, y_pred - y).mean()\n",
    "\n",
    "\n",
    "iters = 20\n",
    "X = np.array([1, 2, 3, 4], dtype=np.float32)\n",
    "Y = np.array([2, 4, 6, 8], dtype=np.float32)\n",
    "\n",
    "w = .0\n",
    "lr = .01\n",
    "\n",
    "for epoth in range(iters):\n",
    "    prediction = forward(X)\n",
    "    los = loss(Y, prediction)\n",
    "    dw = gradient(X, Y, prediction)\n",
    "    w -= lr * dw\n",
    "\n",
    "    if epoth % 2 == 0:\n",
    "        print(f'epoth {epoth}: loss = {los:6f}, w = {w:3f}')\n",
    "\n",
    "print(f'Prediction before training: f(5) = {forward(5):.3f}')"
   ],
   "outputs": [
    {
     "output_type": "stream",
     "name": "stdout",
     "text": [
      "epoth 0: loss = 30.000000, w = 1.200000\n",
      "epoth 2: loss = 0.768000, w = 1.872000\n",
      "epoth 4: loss = 0.019661, w = 1.979520\n",
      "epoth 6: loss = 0.000503, w = 1.996723\n",
      "epoth 8: loss = 0.000013, w = 1.999476\n",
      "epoth 10: loss = 0.000000, w = 1.999916\n",
      "epoth 12: loss = 0.000000, w = 1.999987\n",
      "epoth 14: loss = 0.000000, w = 1.999998\n",
      "epoth 16: loss = 0.000000, w = 2.000000\n",
      "epoth 18: loss = 0.000000, w = 2.000000\n",
      "Prediction before training: f(5) = 10.000\n"
     ]
    }
   ],
   "metadata": {
    "collapsed": false,
    "pycharm": {
     "name": "#%%\n"
    }
   }
  },
  {
   "cell_type": "markdown",
   "source": [
    "---\n",
    "# pytorch写法"
   ],
   "metadata": {
    "collapsed": false,
    "pycharm": {
     "name": "#%% md\n"
    }
   }
  },
  {
   "cell_type": "code",
   "execution_count": 1,
   "source": [
    "# 导入torch\n",
    "import torch"
   ],
   "outputs": [],
   "metadata": {
    "collapsed": false,
    "pycharm": {
     "name": "#%%\n"
    }
   }
  },
  {
   "cell_type": "code",
   "execution_count": 38,
   "source": [
    "t_X = torch.tensor([1, 2, 3, 4], dtype=torch.float32)\n",
    "t_Y = torch.tensor([2, 4, 6, 8], dtype=torch.float32)\n",
    "\n",
    "device = torch.device('cuda:0')\n",
    "lr = 0.01\n",
    "iters = 50\n",
    "w = torch.randn(1, dtype=torch.float32, requires_grad=True)\n",
    "\n",
    "\n",
    "def forward(x):\n",
    "    return w * x\n",
    "\n",
    "\n",
    "def loss(y, y_pred):\n",
    "    return ((y - y_pred) ** 2).mean()\n",
    "\n",
    "\n",
    "def gradient(x, y, y_pred):\n",
    "    return torch.mean(torch.dot(2 * x, (y_pred - y)))\n",
    "\n",
    "\n",
    "for epoth in range(iters):\n",
    "    y_pred = forward(t_X)\n",
    "    los = loss(t_Y, y_pred)\n",
    "    los.backward()\n",
    "    with torch.no_grad():\n",
    "        w.sub_(lr * w.grad)\n",
    "    # clear the gradient\n",
    "    w.grad.zero_()\n",
    "    if epoth % 2 == 0:\n",
    "        print(f'epoth {epoth}: loss = {los:6f}, w = {w.detach().numpy()[0]:3f}')\n",
    "\n",
    "print(f'Prediction before training: f(5) = {forward(5).detach().numpy()[0]:3f}')"
   ],
   "outputs": [
    {
     "output_type": "stream",
     "name": "stdout",
     "text": [
      "epoth 0: loss = 41.478516, w = 0.001059\n",
      "epoth 2: loss = 21.652044, w = 0.555765\n",
      "epoth 4: loss = 11.302504, w = 0.956540\n",
      "epoth 6: loss = 5.899978, w = 1.246101\n",
      "epoth 8: loss = 3.079824, w = 1.455308\n",
      "epoth 10: loss = 1.607688, w = 1.606460\n",
      "epoth 12: loss = 0.839223, w = 1.715667\n",
      "epoth 14: loss = 0.438080, w = 1.794569\n",
      "epoth 16: loss = 0.228681, w = 1.851576\n",
      "epoth 18: loss = 0.119373, w = 1.892764\n",
      "epoth 20: loss = 0.062313, w = 1.922522\n",
      "epoth 22: loss = 0.032528, w = 1.944022\n",
      "epoth 24: loss = 0.016980, w = 1.959556\n",
      "epoth 26: loss = 0.008864, w = 1.970779\n",
      "epoth 28: loss = 0.004627, w = 1.978888\n",
      "epoth 30: loss = 0.002415, w = 1.984746\n",
      "epoth 32: loss = 0.001261, w = 1.988979\n",
      "epoth 34: loss = 0.000658, w = 1.992037\n",
      "epoth 36: loss = 0.000344, w = 1.994247\n",
      "epoth 38: loss = 0.000179, w = 1.995843\n",
      "epoth 40: loss = 0.000094, w = 1.996997\n",
      "epoth 42: loss = 0.000049, w = 1.997830\n",
      "epoth 44: loss = 0.000026, w = 1.998432\n",
      "epoth 46: loss = 0.000013, w = 1.998867\n",
      "epoth 48: loss = 0.000007, w = 1.999182\n",
      "Prediction before training: f(5) = 9.996522\n"
     ]
    }
   ],
   "metadata": {
    "collapsed": false,
    "pycharm": {
     "name": "#%%\n"
    }
   }
  },
  {
   "cell_type": "markdown",
   "source": [
    "---\n",
    "# 使用pytorch优化器\n",
    "## 设计模型\n",
    "## 构建优化器和损失函数\n",
    "## 训练\n",
    "###     - 前向传递\n",
    "###     - 后向更新\n",
    "###     - 更新权重"
   ],
   "metadata": {
    "collapsed": false,
    "pycharm": {
     "name": "#%% md\n"
    }
   }
  },
  {
   "cell_type": "code",
   "execution_count": 1,
   "source": [
    "import torch\n",
    "import torch.nn as nn"
   ],
   "outputs": [],
   "metadata": {
    "collapsed": false,
    "pycharm": {
     "name": "#%%\n"
    }
   }
  },
  {
   "cell_type": "code",
   "execution_count": 2,
   "source": [
    "t_X = torch.tensor([[1], [2], [3], [4]], dtype=torch.float32)\n",
    "t_Y = torch.tensor([[2], [4], [6], [8]], dtype=torch.float32)\n",
    "\n",
    "device = torch.device('cpu')\n",
    "lr = 0.01\n",
    "iters = 50\n",
    "\n",
    "n_samples, n_features = t_X.shape\n",
    "input_size = n_features\n",
    "output_size = n_features\n",
    "# model = nn.Linear(input_size, output_size)\n",
    "class LinearRegressin(nn.Module):\n",
    "    def __init__(self, input_dim, output_dim):\n",
    "        super().__init__()\n",
    "        self.lin = nn.Linear(input_dim, output_dim)\n",
    "\n",
    "    def forward(self, x):\n",
    "        return self.lin(x)\n",
    "\n",
    "model = LinearRegressin(input_dim=input_size, output_dim=output_size)\n",
    "\n",
    "loss = nn.MSELoss()\n",
    "optimizer = torch.optim.SGD(model.parameters(), lr=lr)\n",
    "\n",
    "for epoth in range(iters):\n",
    "    y_pred = model(t_X)\n",
    "    l = loss(t_Y, y_pred)\n",
    "    l.backward()\n",
    "    optimizer.step()\n",
    "    optimizer.zero_grad()\n",
    "    if epoth % 2 == 0:\n",
    "        w, b = model.parameters()\n",
    "        print(f'epoth {epoth}: loss = {l:6f}, w = {w[0][0]:3f}')\n",
    "\n",
    "print(f'Prediction before training: f(5) = {model(torch.tensor([5], dtype=torch.float32)).item():3f}')"
   ],
   "outputs": [
    {
     "name": "stdout",
     "output_type": "stream",
     "text": [
      "epoth 0: loss = 14.573153, w = 0.597887\n",
      "epoth 2: loss = 7.115775, w = 0.916858\n",
      "epoth 4: loss = 3.524106, w = 1.138845\n",
      "epoth 6: loss = 1.793662, w = 1.293531\n",
      "epoth 8: loss = 0.959354, w = 1.401517\n",
      "epoth 10: loss = 0.556520, w = 1.477093\n",
      "epoth 12: loss = 0.361439, w = 1.530177\n",
      "epoth 14: loss = 0.266400, w = 1.567651\n",
      "epoth 16: loss = 0.219540, w = 1.594289\n",
      "epoth 18: loss = 0.195890, w = 1.613404\n",
      "epoth 20: loss = 0.183429, w = 1.627296\n",
      "epoth 22: loss = 0.176366, w = 1.637560\n",
      "epoth 24: loss = 0.171916, w = 1.645303\n",
      "epoth 26: loss = 0.168737, w = 1.651293\n",
      "epoth 28: loss = 0.166181, w = 1.656062\n",
      "epoth 30: loss = 0.163938, w = 1.659981\n",
      "epoth 32: loss = 0.161857, w = 1.663307\n",
      "epoth 34: loss = 0.159867, w = 1.666216\n",
      "epoth 36: loss = 0.157932, w = 1.668834\n",
      "epoth 38: loss = 0.156034, w = 1.671246\n",
      "epoth 40: loss = 0.154168, w = 1.673512\n",
      "epoth 42: loss = 0.152326, w = 1.675671\n",
      "epoth 44: loss = 0.150509, w = 1.677755\n",
      "epoth 46: loss = 0.148714, w = 1.679782\n",
      "epoth 48: loss = 0.146940, w = 1.681765\n",
      "Prediction before training: f(5) = 9.346054\n"
     ]
    },
    {
     "name": "stderr",
     "output_type": "stream",
     "text": [
      "/home/sasuke/PycharmProjects/MT/venv/lib/python3.9/site-packages/torch/autograd/__init__.py:147: UserWarning: CUDA initialization: CUDA unknown error - this may be due to an incorrectly set up environment, e.g. changing env variable CUDA_VISIBLE_DEVICES after program start. Setting the available devices to be zero. (Triggered internally at  /pytorch/c10/cuda/CUDAFunctions.cpp:115.)\n",
      "  Variable._execution_engine.run_backward(\n"
     ]
    }
   ],
   "metadata": {
    "collapsed": false,
    "pycharm": {
     "name": "#%%\n"
    }
   }
  },
  {
   "cell_type": "code",
   "execution_count": null,
   "outputs": [],
   "source": [],
   "metadata": {
    "collapsed": false,
    "pycharm": {
     "name": "#%%\n"
    }
   }
  }
 ],
 "metadata": {
  "kernelspec": {
   "name": "python3",
   "language": "python",
   "display_name": "Python 3 (ipykernel)"
  },
  "language_info": {
   "name": "python",
   "version": "3.9.6",
   "mimetype": "text/x-python",
   "codemirror_mode": {
    "name": "ipython",
    "version": 3
   },
   "pygments_lexer": "ipython3",
   "nbconvert_exporter": "python",
   "file_extension": ".py"
  },
  "interpreter": {
   "hash": "1241c3981591ab042117ccef0cb49c926c79b178e9018f5d2702d050992445dc"
  }
 },
 "nbformat": 4,
 "nbformat_minor": 2
}