{
 "cells": [
  {
   "cell_type": "code",
   "execution_count": 3,
   "metadata": {},
   "outputs": [],
   "source": [
    "import torch\n",
    "import torchvision\n",
    "from torch.utils.data import DataLoader, Dataset\n",
    "import numpy as np\n",
    "import math"
   ]
  },
  {
   "cell_type": "code",
   "execution_count": 4,
   "metadata": {
    "collapsed": false,
    "jupyter": {
     "outputs_hidden": false
    },
    "pycharm": {
     "name": "#%%\n"
    }
   },
   "outputs": [
    {
     "name": "stdout",
     "output_type": "stream",
     "text": [
      "torch.Size([13]) torch.Size([1])\n",
      "torch.Size([4, 13]) torch.Size([4, 1])\n"
     ]
    }
   ],
   "source": [
    "# dataset = torchvision.datasets.MNIST(root='./data', download=True, transform=torchvision.transforms.ToTensor)\n",
    "\n",
    "\n",
    "class WineDataset(Dataset):\n",
    "    def __init__(self, transform=None):\n",
    "        xy = np.loadtxt('./data/wine/wine.csv', delimiter=',', dtype=np.float32, skiprows=1)\n",
    "        self.x = xy[:, 1:]\n",
    "        self.y = xy[:, :1]\n",
    "        self.transform = transform\n",
    "        self.n_sample = xy.shape[0]\n",
    "\n",
    "    def __getitem__(self, index):\n",
    "        sample = self.x[index], self.y[index]\n",
    "\n",
    "        if self.transform:\n",
    "            sample = self.transform(sample)\n",
    "\n",
    "        return sample\n",
    "\n",
    "    def __len__(self):\n",
    "        return self.n_sample\n",
    "\n",
    "\n",
    "class ToTensor:\n",
    "    def __call__(self, item):\n",
    "        inputs, targets = item\n",
    "        return torch.from_numpy(inputs), torch.from_numpy(targets)\n",
    "\n",
    "\n",
    "wine_dataset = WineDataset(transform=ToTensor())\n",
    "\n",
    "first_data = wine_dataset[0]\n",
    "features, labels = first_data\n",
    "print(features.shape, labels.shape)\n",
    "\n",
    "train_loader = DataLoader(dataset=wine_dataset,\n",
    "                          batch_size=4,\n",
    "                          shuffle=True,\n",
    "                          num_workers=2)\n",
    "\n",
    "# convert to an iterator and look at one random sample\n",
    "dataiter = iter(train_loader)\n",
    "data = dataiter.next()\n",
    "features, labels = data\n",
    "print(features.shape, labels.shape)"
   ]
  },
  {
   "cell_type": "code",
   "execution_count": 5,
   "metadata": {
    "collapsed": false,
    "jupyter": {
     "outputs_hidden": false
    },
    "pycharm": {
     "name": "#%%\n"
    }
   },
   "outputs": [
    {
     "name": "stdout",
     "output_type": "stream",
     "text": [
      "tensor(1.6124)\n",
      "tensor([2.1000, 3.3000, 3.3000])\n",
      "tensor([0, 2, 2])\n"
     ]
    }
   ],
   "source": [
    "import torch.nn as nn\n",
    "\n",
    "# x = torch.tensor([1, 2, 3], dtype=torch.float32)\n",
    "# y = torch.tensor([1.1, 2, 3.3], dtype=torch.float32)\n",
    "# print(torch.softmax(x, dim=0))\n",
    "loss = nn.CrossEntropyLoss()\n",
    "y_hat = torch.tensor([1,0,2])\n",
    "y = torch.tensor([[2.1, .7, 1.2], [1.1, 2.2, 3.3], [2.2, 1.1, 3.3]])\n",
    "output = loss(y, y_hat)\n",
    "print(output)\n",
    "a,b = torch.max(y, 1)\n",
    "print(a)\n",
    "print(b)"
   ]
  },
  {
   "cell_type": "code",
   "execution_count": null,
   "metadata": {
    "collapsed": false,
    "jupyter": {
     "outputs_hidden": false
    },
    "pycharm": {
     "name": "#%%\n"
    }
   },
   "outputs": [],
   "source": []
  }
 ],
 "metadata": {
  "interpreter": {
   "hash": "1241c3981591ab042117ccef0cb49c926c79b178e9018f5d2702d050992445dc"
  },
  "kernelspec": {
   "name": "python3",
   "language": "python",
   "display_name": "Python 3 (ipykernel)"
  },
  "language_info": {
   "codemirror_mode": {
    "name": "ipython",
    "version": 3
   },
   "file_extension": ".py",
   "mimetype": "text/x-python",
   "name": "python",
   "nbconvert_exporter": "python",
   "pygments_lexer": "ipython3",
   "version": "3.8.8"
  }
 },
 "nbformat": 4,
 "nbformat_minor": 4
}