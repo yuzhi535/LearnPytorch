{
 "nbformat": 4,
 "nbformat_minor": 0,
 "metadata": {
  "colab": {
   "name": "day7.ipynb",
   "provenance": [],
   "authorship_tag": "ABX9TyMMugVnmtEwsOb0Yf7CZsKm",
   "include_colab_link": true
  },
  "kernelspec": {
   "name": "python3811jvsc74a57bd009c23d22a706fc12b1062908fd09cfecb2172be0b70fdbd727d2263e91aafcc4",
   "language": "python",
   "display_name": "Python 3.8.11 64-bit ('MT': conda)"
  },
  "language_info": {
   "name": "python"
  }
 },
 "cells": [
  {
   "cell_type": "markdown",
   "metadata": {
    "id": "view-in-github",
    "colab_type": "text"
   },
   "source": [
    "<a href=\"https://colab.research.google.com/github/yuzhi535/LearnPytorch/blob/master/day8.ipynb\" target=\"_parent\"><img src=\"https://colab.research.google.com/assets/colab-badge.svg\" alt=\"Open In Colab\"/></a>"
   ]
  },
  {
   "cell_type": "markdown",
   "metadata": {
    "id": "ek6cHDdAuTaj"
   },
   "source": [
    "# use my own data from google drive"
   ]
  },
  {
   "cell_type": "code",
   "metadata": {
    "colab": {
     "base_uri": "https://localhost:8080/"
    },
    "id": "mP47NBBLtMAa",
    "outputId": "14a7687f-2be5-4a6f-a764-eb18f8d8acf5"
   },
   "source": [
    "from google.colab import drive\n",
    "drive.mount('/content/drive')"
   ],
   "execution_count": 2,
   "outputs": [
    {
     "output_type": "stream",
     "text": [
      "Mounted at /content/drive\n"
     ],
     "name": "stdout"
    }
   ]
  },
  {
   "cell_type": "code",
   "metadata": {
    "colab": {
     "base_uri": "https://localhost:8080/"
    },
    "id": "FAZl2JsHtVyX",
    "outputId": "20211ab3-4f43-4d27-ec8e-66a68855ba1e"
   },
   "source": [
    "!ls"
   ],
   "execution_count": 3,
   "outputs": [
    {
     "output_type": "stream",
     "text": [
      "drive  sample_data\n"
     ],
     "name": "stdout"
    }
   ]
  },
  {
   "cell_type": "code",
   "metadata": {
    "id": "rNZtp67Ptrv6"
   },
   "source": [
    "import os\n",
    "os.chdir('drive/MyDrive')"
   ],
   "execution_count": 7,
   "outputs": []
  },
  {
   "cell_type": "code",
   "metadata": {
    "colab": {
     "base_uri": "https://localhost:8080/"
    },
    "id": "S51m_Moxt6JI",
    "outputId": "e6851acf-50a0-4510-89da-c5d5a5f9fc5e"
   },
   "source": [
    "!ls"
   ],
   "execution_count": 10,
   "outputs": [
    {
     "output_type": "stream",
     "text": [
      "drive  sample_data\n"
     ],
     "name": "stdout"
    }
   ]
  },
  {
   "cell_type": "markdown",
   "metadata": {
    "id": "edasQU2Kue4m"
   },
   "source": [
    "# transfer learning"
   ]
  },
  {
   "cell_type": "code",
   "metadata": {
    "id": "O4Q88aJEuibo"
   },
   "source": [
    ""
   ],
   "execution_count": null,
   "outputs": []
  }
 ]
}