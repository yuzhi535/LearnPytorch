{
 "cells": [
  {
   "cell_type": "code",
   "execution_count": 1,
   "source": [
    "# 导入必要包\n",
    "import torch\n",
    "import torch.nn as nn\n",
    "import numpy as np\n",
    "from sklearn import datasets\n",
    "import matplotlib.pyplot as plt"
   ],
   "outputs": [],
   "metadata": {
    "collapsed": true
   }
  },
  {
   "cell_type": "markdown",
   "source": [
    "1. 设计模型\n",
    "2. 损失函数和优化器\n",
    "3. 训练"
   ],
   "metadata": {
    "collapsed": false,
    "pycharm": {
     "name": "#%% md\n"
    }
   }
  },
  {
   "cell_type": "code",
   "execution_count": 16,
   "source": [
    "X_numpy, Y_numpy = datasets.make_regression(n_samples=100, n_features=1, noise=20, random_state=1)\n",
    "X = torch.from_numpy(X_numpy.astype(np.float32))\n",
    "Y = torch.from_numpy(Y_numpy.astype(np.float32))\n",
    "y = Y.view(-1, 1)\n",
    "n_sample, n_features = X.shape\n",
    "input_size = n_features\n",
    "output_size = 1\n",
    "model = nn.Linear(input_size, output_size)\n",
    "criterion = nn.MSELoss()\n",
    "learning_rate = .01\n",
    "optimizer = torch.optim.SGD(model.parameters(), lr=learning_rate)\n",
    "num_epoths = 100\n",
    "for epoth in range(num_epoths):\n",
    "    y_pred = model(X)\n",
    "    loss = criterion(y, y_pred)\n",
    "    # backward\n",
    "    loss.backward()\n",
    "    # update\n",
    "    optimizer.step()\n",
    "    # clear the gradient\n",
    "    optimizer.zero_grad()\n",
    "    if (epoth + 1) % 10 == 0:\n",
    "        print(f'epoth: {epoth + 1}, loss： {loss.item():.3f}')\n",
    "\n",
    "# plot\n",
    "predicted = model(X).detach().numpy()\n",
    "plt.plot(X_numpy, Y_numpy, 'ro')\n",
    "plt.plot(X_numpy, predicted, 'b')\n",
    "plt.show()\n"
   ],
   "outputs": [
    {
     "name": "stdout",
     "output_type": "stream",
     "text": [
      "epoth: 10, loss： 4396.799\n",
      "epoth: 20, loss： 3281.378\n",
      "epoth: 30, loss： 2473.921\n",
      "epoth: 40, loss： 1888.799\n",
      "epoth: 50, loss： 1464.385\n",
      "epoth: 60, loss： 1156.269\n",
      "epoth: 70, loss： 932.401\n",
      "epoth: 80, loss： 769.622\n",
      "epoth: 90, loss： 651.182\n",
      "epoth: 100, loss： 564.948\n"
     ]
    },
    {
     "data": {
      "text/plain": "<Figure size 432x288 with 1 Axes>",
      "image/png": "[encoded data removed]"
     },
     "metadata": {
      "needs_background": "light"
     },
     "output_type": "display_data"
    }
   ],
   "metadata": {
    "collapsed": false,
    "pycharm": {
     "name": "#%%\n"
    }
   }
  },
  {
   "cell_type": "code",
   "execution_count": null,
   "source": [],
   "outputs": [],
   "metadata": {
    "collapsed": false,
    "pycharm": {
     "name": "#%%\n"
    }
   }
  }
 ],
 "metadata": {
  "kernelspec": {
   "name": "python3",
   "language": "python",
   "display_name": "Python 3 (ipykernel)"
  },
  "language_info": {
   "name": "python",
   "version": "3.9.6",
   "mimetype": "text/x-python",
   "codemirror_mode": {
    "name": "ipython",
    "version": 3
   },
   "pygments_lexer": "ipython3",
   "nbconvert_exporter": "python",
   "file_extension": ".py"
  },
  "interpreter": {
   "hash": "1241c3981591ab042117ccef0cb49c926c79b178e9018f5d2702d050992445dc"
  }
 },
 "nbformat": 4,
 "nbformat_minor": 2
}